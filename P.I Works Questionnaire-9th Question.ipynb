{
 "cells": [
  {
   "cell_type": "markdown",
   "id": "b470f92f",
   "metadata": {},
   "source": [
    "### Assume any database includes below columns and you are requested to process Stats_Access_Link column and extract pure url information inside per device type. \n",
    "\n",
    "    Rules: \n",
    "-   Xml tags and protocol parts is guaranteed to be lower case  \n",
    "-   Access link part that we are interested in can have alpha-numeric, case insensitive characters, underscore ( _ ) character and dot ( . ) character only.  \n",
    "\n",
    "What would you use for this task, please write your detailed answer with exact solution? Please  provide the link to your code as answer to this question \n",
    "\n",
    "**Example: for the device type AXO145, we would like to get xcd32112.smart_meter.com regardless from its access protocol is SSL secured or not.**"
   ]
  },
  {
   "cell_type": "code",
   "execution_count": 1,
   "id": "2b41f1a2",
   "metadata": {},
   "outputs": [],
   "source": [
    "import ibm_db\n",
    "import ibm_db_sa\n",
    "import sqlalchemy"
   ]
  },
  {
   "cell_type": "code",
   "execution_count": 2,
   "id": "0e887bcc",
   "metadata": {},
   "outputs": [],
   "source": [
    "%load_ext sql"
   ]
  },
  {
   "cell_type": "code",
   "execution_count": 3,
   "id": "41ac79b3",
   "metadata": {},
   "outputs": [],
   "source": [
    "%sql ibm_db_sa://cwy02408:pyBgTyyf7j96G8VI@764264db-9824-4b7c-82df-40d1b13897c2.bs2io90l08kqb1od8lcg.databases.appdomain.cloud:32536/BLUDB;security=SSL"
   ]
  },
  {
   "cell_type": "code",
   "execution_count": 4,
   "id": "2092cb8e",
   "metadata": {},
   "outputs": [
    {
     "name": "stdout",
     "output_type": "stream",
     "text": [
      " * ibm_db_sa://cwy02408:***@764264db-9824-4b7c-82df-40d1b13897c2.bs2io90l08kqb1od8lcg.databases.appdomain.cloud:32536/BLUDB;security=SSL\n",
      "Done.\n"
     ]
    },
    {
     "data": {
      "text/plain": [
       "[]"
      ]
     },
     "execution_count": 4,
     "metadata": {},
     "output_type": "execute_result"
    }
   ],
   "source": [
    "%%sql\n",
    "CREATE TABLE DEVICE(\n",
    "    Device_Type varchar(250),\n",
    "    Stats_Access_Link varchar(250)\n",
    ");"
   ]
  },
  {
   "cell_type": "code",
   "execution_count": 5,
   "id": "b16f1331",
   "metadata": {},
   "outputs": [
    {
     "name": "stdout",
     "output_type": "stream",
     "text": [
      " * ibm_db_sa://cwy02408:***@764264db-9824-4b7c-82df-40d1b13897c2.bs2io90l08kqb1od8lcg.databases.appdomain.cloud:32536/BLUDB;security=SSL\n",
      "5 rows affected.\n"
     ]
    },
    {
     "data": {
      "text/plain": [
       "[]"
      ]
     },
     "execution_count": 5,
     "metadata": {},
     "output_type": "execute_result"
    }
   ],
   "source": [
    "%%sql\n",
    "INSERT INTO DEVICE(Device_Type, Stats_Access_Link) VALUES\n",
    "('AX0145', '<url>https://xcd32112.smart_meter.com</url>'),\n",
    "('TRU151', '<url>https://tXh67.dia_meter.com</url>'),\n",
    "('ZOD231', '<url>https://yT5495.smart_meter.com</url>'),\n",
    "('YRT326', '<url>https://ret323_TRu.crown.com</url>'),\n",
    "('LWR245', '<url>https://luwr3243.celcius.com</url>');"
   ]
  },
  {
   "cell_type": "code",
   "execution_count": 6,
   "id": "833184a8",
   "metadata": {},
   "outputs": [
    {
     "name": "stdout",
     "output_type": "stream",
     "text": [
      " * ibm_db_sa://cwy02408:***@764264db-9824-4b7c-82df-40d1b13897c2.bs2io90l08kqb1od8lcg.databases.appdomain.cloud:32536/BLUDB;security=SSL\n",
      "Done.\n"
     ]
    },
    {
     "data": {
      "text/html": [
       "<table>\n",
       "    <tr>\n",
       "        <th>device_type</th>\n",
       "        <th>stats_access_link</th>\n",
       "    </tr>\n",
       "    <tr>\n",
       "        <td>AX0145</td>\n",
       "        <td>&lt;url&gt;https://xcd32112.smart_meter.com&lt;/url&gt;</td>\n",
       "    </tr>\n",
       "    <tr>\n",
       "        <td>TRU151</td>\n",
       "        <td>&lt;url&gt;https://tXh67.dia_meter.com&lt;/url&gt;</td>\n",
       "    </tr>\n",
       "    <tr>\n",
       "        <td>ZOD231</td>\n",
       "        <td>&lt;url&gt;https://yT5495.smart_meter.com&lt;/url&gt;</td>\n",
       "    </tr>\n",
       "    <tr>\n",
       "        <td>YRT326</td>\n",
       "        <td>&lt;url&gt;https://ret323_TRu.crown.com&lt;/url&gt;</td>\n",
       "    </tr>\n",
       "    <tr>\n",
       "        <td>LWR245</td>\n",
       "        <td>&lt;url&gt;https://luwr3243.celcius.com&lt;/url&gt;</td>\n",
       "    </tr>\n",
       "</table>"
      ],
      "text/plain": [
       "[('AX0145', '<url>https://xcd32112.smart_meter.com</url>'),\n",
       " ('TRU151', '<url>https://tXh67.dia_meter.com</url>'),\n",
       " ('ZOD231', '<url>https://yT5495.smart_meter.com</url>'),\n",
       " ('YRT326', '<url>https://ret323_TRu.crown.com</url>'),\n",
       " ('LWR245', '<url>https://luwr3243.celcius.com</url>')]"
      ]
     },
     "execution_count": 6,
     "metadata": {},
     "output_type": "execute_result"
    }
   ],
   "source": [
    "%%sql\n",
    "SELECT *\n",
    "FROM DEVICE;"
   ]
  },
  {
   "cell_type": "code",
   "execution_count": 7,
   "id": "edcc4432",
   "metadata": {},
   "outputs": [
    {
     "name": "stdout",
     "output_type": "stream",
     "text": [
      " * ibm_db_sa://cwy02408:***@764264db-9824-4b7c-82df-40d1b13897c2.bs2io90l08kqb1od8lcg.databases.appdomain.cloud:32536/BLUDB;security=SSL\n",
      "Done.\n"
     ]
    },
    {
     "data": {
      "text/html": [
       "<table>\n",
       "    <tr>\n",
       "        <th>stats_access_link</th>\n",
       "        <th>2</th>\n",
       "    </tr>\n",
       "    <tr>\n",
       "        <td>&lt;url&gt;https://xcd32112.smart_meter.com&lt;/url&gt;</td>\n",
       "        <td>43</td>\n",
       "    </tr>\n",
       "    <tr>\n",
       "        <td>&lt;url&gt;https://tXh67.dia_meter.com&lt;/url&gt;</td>\n",
       "        <td>38</td>\n",
       "    </tr>\n",
       "    <tr>\n",
       "        <td>&lt;url&gt;https://yT5495.smart_meter.com&lt;/url&gt;</td>\n",
       "        <td>41</td>\n",
       "    </tr>\n",
       "    <tr>\n",
       "        <td>&lt;url&gt;https://ret323_TRu.crown.com&lt;/url&gt;</td>\n",
       "        <td>39</td>\n",
       "    </tr>\n",
       "    <tr>\n",
       "        <td>&lt;url&gt;https://luwr3243.celcius.com&lt;/url&gt;</td>\n",
       "        <td>39</td>\n",
       "    </tr>\n",
       "</table>"
      ],
      "text/plain": [
       "[('<url>https://xcd32112.smart_meter.com</url>', 43),\n",
       " ('<url>https://tXh67.dia_meter.com</url>', 38),\n",
       " ('<url>https://yT5495.smart_meter.com</url>', 41),\n",
       " ('<url>https://ret323_TRu.crown.com</url>', 39),\n",
       " ('<url>https://luwr3243.celcius.com</url>', 39)]"
      ]
     },
     "execution_count": 7,
     "metadata": {},
     "output_type": "execute_result"
    }
   ],
   "source": [
    "%%sql\n",
    "SELECT stats_access_link,\n",
    "    LENGTH(stats_access_link)\n",
    "FROM DEVICE;"
   ]
  },
  {
   "cell_type": "code",
   "execution_count": 8,
   "id": "37f7c39f",
   "metadata": {},
   "outputs": [
    {
     "name": "stdout",
     "output_type": "stream",
     "text": [
      " * ibm_db_sa://cwy02408:***@764264db-9824-4b7c-82df-40d1b13897c2.bs2io90l08kqb1od8lcg.databases.appdomain.cloud:32536/BLUDB;security=SSL\n",
      "Done.\n"
     ]
    },
    {
     "data": {
      "text/html": [
       "<table>\n",
       "    <tr>\n",
       "        <th>device_type</th>\n",
       "        <th>pure_url</th>\n",
       "    </tr>\n",
       "    <tr>\n",
       "        <td>AX0145</td>\n",
       "        <td>xcd32112.smart_meter</td>\n",
       "    </tr>\n",
       "    <tr>\n",
       "        <td>TRU151</td>\n",
       "        <td>txh67.dia_meter</td>\n",
       "    </tr>\n",
       "    <tr>\n",
       "        <td>ZOD231</td>\n",
       "        <td>yt5495.smart_meter</td>\n",
       "    </tr>\n",
       "    <tr>\n",
       "        <td>YRT326</td>\n",
       "        <td>ret323_tru.crown</td>\n",
       "    </tr>\n",
       "    <tr>\n",
       "        <td>LWR245</td>\n",
       "        <td>luwr3243.celcius</td>\n",
       "    </tr>\n",
       "</table>"
      ],
      "text/plain": [
       "[('AX0145', 'xcd32112.smart_meter'),\n",
       " ('TRU151', 'txh67.dia_meter'),\n",
       " ('ZOD231', 'yt5495.smart_meter'),\n",
       " ('YRT326', 'ret323_tru.crown'),\n",
       " ('LWR245', 'luwr3243.celcius')]"
      ]
     },
     "execution_count": 8,
     "metadata": {},
     "output_type": "execute_result"
    }
   ],
   "source": [
    "%%sql\n",
    "SELECT device_type,\n",
    "    LOWER(SUBSTR(SUBSTR(stats_access_link, 14), 1, LOCATE('.com', stats_access_link)-14)) AS pure_url\n",
    "FROM DEVICE;"
   ]
  }
 ],
 "metadata": {
  "kernelspec": {
   "display_name": "Python 3 (ipykernel)",
   "language": "python",
   "name": "python3"
  },
  "language_info": {
   "codemirror_mode": {
    "name": "ipython",
    "version": 3
   },
   "file_extension": ".py",
   "mimetype": "text/x-python",
   "name": "python",
   "nbconvert_exporter": "python",
   "pygments_lexer": "ipython3",
   "version": "3.9.12"
  }
 },
 "nbformat": 4,
 "nbformat_minor": 5
}
